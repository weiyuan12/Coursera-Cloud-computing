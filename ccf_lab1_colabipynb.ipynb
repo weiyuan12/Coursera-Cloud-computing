{
  "nbformat": 4,
  "nbformat_minor": 0,
  "metadata": {
    "colab": {
      "provenance": [],
      "authorship_tag": "ABX9TyNfhu4OC0ZBN9yS744PGdGW",
      "include_colab_link": true
    },
    "kernelspec": {
      "name": "python3",
      "display_name": "Python 3"
    },
    "language_info": {
      "name": "python"
    }
  },
  "cells": [
    {
      "cell_type": "markdown",
      "metadata": {
        "id": "view-in-github",
        "colab_type": "text"
      },
      "source": [
        "<a href=\"https://colab.research.google.com/github/weiyuan12/Coursera-Cloud-computing/blob/main/ccf_lab1_colabipynb.ipynb\" target=\"_parent\"><img src=\"https://colab.research.google.com/assets/colab-badge.svg\" alt=\"Open In Colab\"/></a>"
      ]
    },
    {
      "cell_type": "code",
      "execution_count": 1,
      "metadata": {
        "colab": {
          "base_uri": "https://localhost:8080/"
        },
        "id": "_afuc84cOltb",
        "outputId": "9d2c797a-a871-4156-bbc5-99d4c63ed789"
      },
      "outputs": [
        {
          "output_type": "stream",
          "name": "stdout",
          "text": [
            "Hello world\n"
          ]
        }
      ],
      "source": [
        "print(\"Hello world\")"
      ]
    },
    {
      "cell_type": "markdown",
      "source": [
        "# My hello world code\n",
        "### Subtext\n",
        "Description<sub>Subtext</sub>\n",
        ">Quoting a **bolded** word"
      ],
      "metadata": {
        "id": "CXqfiGy8O3H6"
      }
    },
    {
      "cell_type": "code",
      "source": [],
      "metadata": {
        "id": "HEnKyBaIO4Qt"
      },
      "execution_count": null,
      "outputs": []
    }
  ]
}